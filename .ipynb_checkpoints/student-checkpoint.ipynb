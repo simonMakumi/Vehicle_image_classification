{
 "cells": [
  {
   "cell_type": "markdown",
   "id": "ec531c13",
   "metadata": {},
   "source": [
    "# VEHICLE IMAGE CLASSIFICATION\n",
    "---\n",
    "# 1. Business Understanding\n",
    "---\n",
    "### 1.1 Overview\n",
    "In collaboration with Kenya Imports Authority (KIA), this project aims to streamline vehicle identification processes at ports of entry. The Kenya Imports Authority oversees the regulation and importation of vehicles into the country, ensuring compliance with national laws and regulations. A machine learning model capable of accurately classifying different types of vehicles (such as Auto Rickshaws, Bikes, Cars, Motorcycles, Planes, Ships and Trains) would enhance operational efficiency, reduce manual errors and improve regulatory compliance.\n",
    "\n",
    "The goal of this project is to build a vehicle classification model that can automatically identify the type of vehicle from an image. This can be applied in real-time during inspections or integrated into existing digital systems for batch processing.\n",
    "\n",
    "#### Metrics of Success:\n",
    "* Accuracy: The percentage of correctly classified vehicle images.\n",
    "* Precision: The ability of the model to correctly classify positive instances without mislabeling others.\n",
    "\n",
    "### 1.2 Problem Statement\n",
    "Manually inspecting and classifying vehicles entering Kenya’s ports is both time-consuming and prone to human error. With thousands of vehicles arriving at the borders daily, it is increasingly difficult to ensure that each one is correctly classified and documented. A machine learning solution is needed to automate this process, allowing for faster, more accurate classification of vehicles. This project seeks to address the challenge of automatically identifying vehicle types using image recognition techniques.\n",
    "\n",
    "### 1.3 Objectives\n",
    "* Develop a machine learning model that can classify vehicles into one of seven predefined categories: `Auto Rickshaws`, `Bikes`, `Cars`, `Motorcycles`, `Planes`, `Ships` and `Trains`.\n",
    "* Achieve a high accuracy and precision for classifying images from the dataset.\n",
    "* Evaluate the performance of the model using test data.\n",
    "* Deploying the model using streamlit."
   ]
  },
  {
   "cell_type": "code",
   "execution_count": null,
   "id": "ccafefca",
   "metadata": {},
   "outputs": [],
   "source": []
  },
  {
   "cell_type": "code",
   "execution_count": null,
   "id": "51d4c185",
   "metadata": {},
   "outputs": [],
   "source": []
  },
  {
   "cell_type": "code",
   "execution_count": null,
   "id": "63a86168",
   "metadata": {},
   "outputs": [],
   "source": []
  },
  {
   "cell_type": "code",
   "execution_count": null,
   "id": "f25cf784",
   "metadata": {},
   "outputs": [],
   "source": []
  }
 ],
 "metadata": {
  "kernelspec": {
   "display_name": "Python [conda env:learn-env] *",
   "language": "python",
   "name": "conda-env-learn-env-py"
  },
  "language_info": {
   "codemirror_mode": {
    "name": "ipython",
    "version": 3
   },
   "file_extension": ".py",
   "mimetype": "text/x-python",
   "name": "python",
   "nbconvert_exporter": "python",
   "pygments_lexer": "ipython3",
   "version": "3.11.9"
  }
 },
 "nbformat": 4,
 "nbformat_minor": 5
}
