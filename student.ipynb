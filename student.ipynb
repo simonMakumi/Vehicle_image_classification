{
 "cells": [
  {
   "cell_type": "markdown",
   "id": "ec531c13",
   "metadata": {},
   "source": [
    "# VEHICLE IMAGE CLASSIFICATION\n",
    "---\n",
    "# 1. Business Understanding\n",
    "---\n",
    "### 1.1 Overview\n",
    "In collaboration with Kenya Imports Authority (KIA), this project aims to streamline vehicle identification processes at ports of entry. The Kenya Imports Authority oversees the regulation and importation of vehicles into the country, ensuring compliance with national laws and regulations. A machine learning model capable of accurately classifying different types of vehicles (such as Auto Rickshaws, Bikes, Cars, Motorcycles, Planes, Ships and Trains) would enhance operational efficiency, reduce manual errors and improve regulatory compliance.\n",
    "\n",
    "The goal of this project is to build a vehicle classification model that can automatically identify the type of vehicle from an image. This can be applied in real-time during inspections or integrated into existing digital systems for batch processing.\n",
    "\n",
    "#### Metrics of Success:\n",
    "* Accuracy: The percentage of correctly classified vehicle images.\n",
    "* Precision: The ability of the model to correctly classify positive instances without mislabeling others.\n",
    "\n",
    "### 1.2 Problem Statement\n",
    "Manually inspecting and classifying vehicles entering Kenya’s ports is both time-consuming and prone to human error. With thousands of vehicles arriving at the borders daily, it is increasingly difficult to ensure that each one is correctly classified and documented. A machine learning solution is needed to automate this process, allowing for faster, more accurate classification of vehicles. This project seeks to address the challenge of automatically identifying vehicle types using image recognition techniques.\n",
    "\n",
    "### 1.3 Objectives\n",
    "* Develop a machine learning model that can classify vehicles into one of seven predefined categories: `Auto Rickshaws`, `Bikes`, `Cars`, `Motorcycles`, `Planes`, `Ships` and `Trains`.\n",
    "* Achieve a high accuracy and precision for classifying images from the dataset.\n",
    "* Evaluate the performance of the model using test data.\n",
    "* Deploying the model using streamlit.\n",
    "---\n",
    "\n",
    "# 2. Data Understanding\n",
    "---\n",
    "\n",
    "### 2.1 Data Source and Access\n",
    "The dataset used for this project is sourced from Kaggle and can be accessed [here](https://www.kaggle.com/datasets/mohamedmaher5/vehicle-classification).\n",
    "It's expected to contain `5,600` images across seven categories, each stored in a subfolder within the Vehicles folder. To manage the large size of the dataset, it has been uploaded to AWS S3 for efficient storage and access. The categories include:\n",
    "\n",
    "* Auto Rickshaws\n",
    "* Bikes\n",
    "* Cars\n",
    "* Motorcycles\n",
    "* Planes\n",
    "* Ships\n",
    "* Trains\n",
    "\n",
    "Each category is expected to contain 800 images in `.jpg` and `.png` formats, including both uppercase and lowercase extensions (`.JPG`, `.PNG`).\n",
    "\n",
    "### 2.2 Data Loading\n",
    "We are going to load the data and store the image urls in a dataframe. This allows for efficient management and on-demand loading of images."
   ]
  },
  {
   "cell_type": "code",
   "execution_count": 1,
   "id": "53d7e94f",
   "metadata": {},
   "outputs": [],
   "source": [
    "# Import necessary libraries\n",
    "\n",
    "import boto3\n",
    "import pandas as pd\n",
    "from PIL import Image\n",
    "import matplotlib.pyplot as plt\n",
    "from io import BytesIO\n",
    "\n",
    "# Filter future warnings\n",
    "import warnings\n",
    "warnings.filterwarnings('ignore')\n"
   ]
  },
  {
   "cell_type": "code",
   "execution_count": 2,
   "id": "baf6b14f",
   "metadata": {},
   "outputs": [
    {
     "data": {
      "text/html": [
       "<div>\n",
       "<style scoped>\n",
       "    .dataframe tbody tr th:only-of-type {\n",
       "        vertical-align: middle;\n",
       "    }\n",
       "\n",
       "    .dataframe tbody tr th {\n",
       "        vertical-align: top;\n",
       "    }\n",
       "\n",
       "    .dataframe thead th {\n",
       "        text-align: right;\n",
       "    }\n",
       "</style>\n",
       "<table border=\"1\" class=\"dataframe\">\n",
       "  <thead>\n",
       "    <tr style=\"text-align: right;\">\n",
       "      <th></th>\n",
       "      <th>File Path</th>\n",
       "      <th>Category</th>\n",
       "    </tr>\n",
       "  </thead>\n",
       "  <tbody>\n",
       "    <tr>\n",
       "      <th>0</th>\n",
       "      <td>Vehicles/Auto Rickshaws/Auto Rickshaw (1).jpg</td>\n",
       "      <td>Auto Rickshaws</td>\n",
       "    </tr>\n",
       "    <tr>\n",
       "      <th>1</th>\n",
       "      <td>Vehicles/Auto Rickshaws/Auto Rickshaw (10).jpg</td>\n",
       "      <td>Auto Rickshaws</td>\n",
       "    </tr>\n",
       "    <tr>\n",
       "      <th>2</th>\n",
       "      <td>Vehicles/Auto Rickshaws/Auto Rickshaw (100).jpg</td>\n",
       "      <td>Auto Rickshaws</td>\n",
       "    </tr>\n",
       "    <tr>\n",
       "      <th>3</th>\n",
       "      <td>Vehicles/Auto Rickshaws/Auto Rickshaw (101).jpg</td>\n",
       "      <td>Auto Rickshaws</td>\n",
       "    </tr>\n",
       "    <tr>\n",
       "      <th>4</th>\n",
       "      <td>Vehicles/Auto Rickshaws/Auto Rickshaw (102).jpg</td>\n",
       "      <td>Auto Rickshaws</td>\n",
       "    </tr>\n",
       "    <tr>\n",
       "      <th>...</th>\n",
       "      <td>...</td>\n",
       "      <td>...</td>\n",
       "    </tr>\n",
       "    <tr>\n",
       "      <th>5582</th>\n",
       "      <td>Vehicles/Trains/Train (95).jpg</td>\n",
       "      <td>Trains</td>\n",
       "    </tr>\n",
       "    <tr>\n",
       "      <th>5583</th>\n",
       "      <td>Vehicles/Trains/Train (96).jpg</td>\n",
       "      <td>Trains</td>\n",
       "    </tr>\n",
       "    <tr>\n",
       "      <th>5584</th>\n",
       "      <td>Vehicles/Trains/Train (97).png</td>\n",
       "      <td>Trains</td>\n",
       "    </tr>\n",
       "    <tr>\n",
       "      <th>5585</th>\n",
       "      <td>Vehicles/Trains/Train (98).png</td>\n",
       "      <td>Trains</td>\n",
       "    </tr>\n",
       "    <tr>\n",
       "      <th>5586</th>\n",
       "      <td>Vehicles/Trains/Train (99).png</td>\n",
       "      <td>Trains</td>\n",
       "    </tr>\n",
       "  </tbody>\n",
       "</table>\n",
       "<p>5587 rows × 2 columns</p>\n",
       "</div>"
      ],
      "text/plain": [
       "                                            File Path        Category\n",
       "0       Vehicles/Auto Rickshaws/Auto Rickshaw (1).jpg  Auto Rickshaws\n",
       "1      Vehicles/Auto Rickshaws/Auto Rickshaw (10).jpg  Auto Rickshaws\n",
       "2     Vehicles/Auto Rickshaws/Auto Rickshaw (100).jpg  Auto Rickshaws\n",
       "3     Vehicles/Auto Rickshaws/Auto Rickshaw (101).jpg  Auto Rickshaws\n",
       "4     Vehicles/Auto Rickshaws/Auto Rickshaw (102).jpg  Auto Rickshaws\n",
       "...                                               ...             ...\n",
       "5582                   Vehicles/Trains/Train (95).jpg          Trains\n",
       "5583                   Vehicles/Trains/Train (96).jpg          Trains\n",
       "5584                   Vehicles/Trains/Train (97).png          Trains\n",
       "5585                   Vehicles/Trains/Train (98).png          Trains\n",
       "5586                   Vehicles/Trains/Train (99).png          Trains\n",
       "\n",
       "[5587 rows x 2 columns]"
      ]
     },
     "execution_count": 2,
     "metadata": {},
     "output_type": "execute_result"
    }
   ],
   "source": [
    "# AWS S3 setup\n",
    "s3_client = boto3.client('s3')\n",
    "bucket_name = 'vehicle-image-classification'\n",
    "folder_path = 'Vehicles/' \n",
    "\n",
    "# Initialize an empty list to store data\n",
    "data = []\n",
    "\n",
    "# Using pagination to retrieve all objects in the Vehicles folder\n",
    "paginator = s3_client.get_paginator('list_objects_v2')\n",
    "pages = paginator.paginate(Bucket=bucket_name, Prefix=folder_path)\n",
    "\n",
    "# Iterating through each page of results\n",
    "for page in pages:\n",
    "    if 'Contents' in page:\n",
    "        files = [obj['Key'] for obj in page['Contents'] if obj['Key'].endswith(('.jpg', '.png', '.PNG', '.JPG'))]\n",
    "        \n",
    "        for file in files:\n",
    "            category = file.split('/')[1]\n",
    "            data.append([file, category])\n",
    "\n",
    "# Creating a DataFrame to store the image paths and labels\n",
    "df = pd.DataFrame(data, columns=['File Path', 'Category'])\n",
    "df"
   ]
  },
  {
   "cell_type": "markdown",
   "id": "dc95f5b6",
   "metadata": {},
   "source": [
    "### 2.3 Class Distribution\n",
    "To understand the class distribution, we are going to calculate the number of images per category to ensure the dataset is balanced across all classes. "
   ]
  },
  {
   "cell_type": "code",
   "execution_count": 3,
   "id": "f2a14679",
   "metadata": {},
   "outputs": [
    {
     "data": {
      "text/plain": [
       "Category\n",
       "Auto Rickshaws    800\n",
       "Bikes             800\n",
       "Motorcycles       800\n",
       "Ships             800\n",
       "Trains            800\n",
       "Planes            797\n",
       "Cars              790\n",
       "Name: count, dtype: int64"
      ]
     },
     "execution_count": 3,
     "metadata": {},
     "output_type": "execute_result"
    }
   ],
   "source": [
    "# Check class distribution\n",
    "class_distribution = df['Category'].value_counts()\n",
    "class_distribution"
   ]
  },
  {
   "cell_type": "markdown",
   "id": "598237fb",
   "metadata": {},
   "source": [
    "#### Observation:\n",
    "The dataset is mostly balanced across categories, but `Planes` and `Cars` have slightly fewer images than expected.\n",
    "\n",
    "---\n",
    "# 3. Data Preparation\n",
    "---\n",
    "In this step, we will clean and organize the data to make it suitable for analysis and modeling.\n",
    "### 3.1 Checking for Missing Values\n",
    "First, let's check if there are any missing values in the dataset. This is important because missing data can lead to errors during analysis or modeling."
   ]
  },
  {
   "cell_type": "code",
   "execution_count": 5,
   "id": "0eb8a015",
   "metadata": {},
   "outputs": [
    {
     "name": "stdout",
     "output_type": "stream",
     "text": [
      "Missing values per column:\n",
      " File Path    0\n",
      "Category     0\n",
      "dtype: int64\n"
     ]
    }
   ],
   "source": [
    "# Check for missing values\n",
    "missing_values = df.isnull().sum()\n",
    "print(\"Missing values per column:\\n\", missing_values)"
   ]
  },
  {
   "cell_type": "markdown",
   "id": "da74f6fd",
   "metadata": {},
   "source": [
    "#### Observation:\n",
    "* The data has no missing values.\n",
    "\n",
    "### 3.2 Data Type Verification\n",
    "Next, we should verify the data types to ensure that they are appropriate for the analysis we plan to perform."
   ]
  },
  {
   "cell_type": "code",
   "execution_count": 6,
   "id": "d40dff1b",
   "metadata": {},
   "outputs": [
    {
     "name": "stdout",
     "output_type": "stream",
     "text": [
      "Data types:\n",
      " File Path    object\n",
      "Category     object\n",
      "dtype: object\n"
     ]
    }
   ],
   "source": [
    "print(\"Data types:\\n\", df.dtypes)"
   ]
  },
  {
   "cell_type": "markdown",
   "id": "7022eee7",
   "metadata": {},
   "source": [
    "### 3.3 Duplicates Check\n",
    "Check for any duplicate entries in the dataset that could skew our analysis."
   ]
  },
  {
   "cell_type": "raw",
   "id": "b1f350d2",
   "metadata": {},
   "source": []
  },
  {
   "cell_type": "code",
   "execution_count": null,
   "id": "d08a82f6",
   "metadata": {},
   "outputs": [],
   "source": []
  },
  {
   "cell_type": "raw",
   "id": "89ad3d53",
   "metadata": {},
   "source": []
  },
  {
   "cell_type": "code",
   "execution_count": null,
   "id": "710e36fa",
   "metadata": {},
   "outputs": [],
   "source": []
  },
  {
   "cell_type": "code",
   "execution_count": 7,
   "id": "9e186c63",
   "metadata": {
    "collapsed": true
   },
   "outputs": [
    {
     "name": "stdout",
     "output_type": "stream",
     "text": [
      "Number of duplicate rows: 0\n"
     ]
    }
   ],
   "source": [
    "# Check for duplicates\n",
    "duplicates = df.duplicated().sum()\n",
    "print(f\"Number of duplicate rows: {duplicates}\")"
   ]
  },
  {
   "cell_type": "markdown",
   "id": "40ea78f9",
   "metadata": {},
   "source": []
  },
  {
   "cell_type": "code",
   "execution_count": null,
   "id": "3554265c",
   "metadata": {},
   "outputs": [],
   "source": []
  },
  {
   "cell_type": "code",
   "execution_count": null,
   "id": "c01f0d27",
   "metadata": {},
   "outputs": [],
   "source": []
  },
  {
   "cell_type": "code",
   "execution_count": null,
   "id": "b041c16b",
   "metadata": {},
   "outputs": [],
   "source": []
  }
 ],
 "metadata": {
  "kernelspec": {
   "display_name": "Python [conda env:learn-env] *",
   "language": "python",
   "name": "conda-env-learn-env-py"
  },
  "language_info": {
   "codemirror_mode": {
    "name": "ipython",
    "version": 3
   },
   "file_extension": ".py",
   "mimetype": "text/x-python",
   "name": "python",
   "nbconvert_exporter": "python",
   "pygments_lexer": "ipython3",
   "version": "3.11.9"
  }
 },
 "nbformat": 4,
 "nbformat_minor": 5
}
